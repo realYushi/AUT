{
 "cells": [
  {
   "cell_type": "code",
   "execution_count": 1,
   "id": "b946dacb",
   "metadata": {},
   "outputs": [
    {
     "name": "stdout",
     "output_type": "stream",
     "text": [
      "   Record_ID  alcohol  malic_acid   ash  alcalinity_of_ash  magnesium  \\\n",
      "0        131      NaN        1.35  2.32               18.0      122.0   \n",
      "1         -1    12.88        2.99  2.40               20.0      104.0   \n",
      "2        133    12.81        2.31  2.40               24.0       98.0   \n",
      "3         -1    12.70        3.55  2.36               21.5      106.0   \n",
      "4         -1      NaN        1.24  2.25               17.5       85.0   \n",
      "\n",
      "   total_phenols  flavanoids  nonflavanoid_phenols  proanthocyanins  \\\n",
      "0           1.51        1.25                  0.21             0.94   \n",
      "1           1.30        1.22                  0.24             0.83   \n",
      "2           1.15        1.09                  0.27             0.83   \n",
      "3           1.70        1.20                  0.17             0.84   \n",
      "4           2.00        0.58                  0.60             1.25   \n",
      "\n",
      "   color_intensity   hue  od280/od315_of_diluted_wines  proline   region  \n",
      "0             4.10  0.76                          1.29    630.0  Barbera  \n",
      "1             5.40  0.74                          1.42    530.0  Barbera  \n",
      "2             5.70  0.66                          1.36    560.0  Barbera  \n",
      "3             5.00  0.78                          1.29    600.0  Barbera  \n",
      "4             5.45  0.75                          1.51    650.0  Barbera  \n"
     ]
    }
   ],
   "source": [
    "import pandas as pd\n",
    "import scipy.stats as stats\n",
    "import numpy as np\n",
    "df = pd.read_csv(\"NoisyWineData.csv\")\n",
    "print(df.head())\n"
   ]
  },
  {
   "cell_type": "code",
   "execution_count": null,
   "id": "4ab63320",
   "metadata": {},
   "outputs": [],
   "source": []
  },
  {
   "cell_type": "code",
   "execution_count": 2,
   "id": "adfbca88",
   "metadata": {},
   "outputs": [
    {
     "name": "stdout",
     "output_type": "stream",
     "text": [
      "1.0\n"
     ]
    }
   ],
   "source": [
    "# Calculate the percentage of duplicated rows in the dataframe and print the result\n",
    "percentage_duplicates = (df.duplicated(keep=False).where(df.duplicated(keep=False)==True).sum() / df.duplicated(keep=False).sum()).sum()\n",
    "print(percentage_duplicates)\n"
   ]
  },
  {
   "cell_type": "code",
   "execution_count": 3,
   "id": "c6c74b9f",
   "metadata": {},
   "outputs": [
    {
     "name": "stdout",
     "output_type": "stream",
     "text": [
      "        Record_ID     alcohol  malic_acid         ash  alcalinity_of_ash  \\\n",
      "count  193.000000  170.000000  193.000000  193.000000         193.000000   \n",
      "mean    28.108808   12.370824    2.456580    2.362073          19.493264   \n",
      "std     56.987239    8.719268    1.249296    0.271799           3.300680   \n",
      "min     -1.000000 -100.000000    0.740000    1.360000          10.600000   \n",
      "25%     -1.000000   12.322500    1.600000    2.210000          17.200000   \n",
      "50%     -1.000000   13.050000    1.880000    2.360000          19.400000   \n",
      "75%     15.000000   13.717500    3.300000    2.550000          21.500000   \n",
      "max    197.000000   18.230000    5.800000    3.230000          30.000000   \n",
      "\n",
      "        magnesium  total_phenols  flavanoids  nonflavanoid_phenols  \\\n",
      "count  193.000000     193.000000  193.000000            193.000000   \n",
      "mean    99.419689       2.287824    1.937876              0.366166   \n",
      "std     13.908744       0.618837    1.416592              0.126486   \n",
      "min     70.000000       0.980000  -12.000000              0.130000   \n",
      "25%     88.000000       1.780000    1.090000              0.270000   \n",
      "50%     98.000000       2.350000    2.090000              0.340000   \n",
      "75%    107.000000       2.800000    2.860000              0.450000   \n",
      "max    162.000000       3.880000    5.080000              0.660000   \n",
      "\n",
      "       proanthocyanins  color_intensity         hue  \\\n",
      "count       193.000000       193.000000  193.000000   \n",
      "mean          1.584715         4.986321    0.954819   \n",
      "std           0.566779         2.655089    0.228113   \n",
      "min           0.410000       -12.360000    0.480000   \n",
      "25%           1.250000         3.210000    0.780000   \n",
      "50%           1.560000         4.680000    0.960000   \n",
      "75%           1.950000         6.200000    1.120000   \n",
      "max           3.580000        13.000000    1.710000   \n",
      "\n",
      "       od280/od315_of_diluted_wines      proline  \n",
      "count                    193.000000   184.000000  \n",
      "mean                       2.595699   751.646739  \n",
      "std                        0.715448   314.833966  \n",
      "min                        1.270000   278.000000  \n",
      "25%                        1.920000   510.000000  \n",
      "50%                        2.770000   675.000000  \n",
      "75%                        3.170000   985.000000  \n",
      "max                        4.000000  1680.000000  \n"
     ]
    }
   ],
   "source": [
    "df.drop_duplicates(inplace=True)\n",
    "\n",
    "print(df.describe())\n"
   ]
  },
  {
   "cell_type": "code",
   "execution_count": 4,
   "id": "4949d114",
   "metadata": {},
   "outputs": [
    {
     "name": "stdout",
     "output_type": "stream",
     "text": [
      "        Record_ID     alcohol  malic_acid         ash  alcalinity_of_ash  \\\n",
      "count  193.000000  169.000000  193.000000  193.000000         193.000000   \n",
      "mean    28.108808   13.035740    2.456580    2.362073          19.493264   \n",
      "std     56.987239    0.933549    1.249296    0.271799           3.300680   \n",
      "min     -1.000000   11.030000    0.740000    1.360000          10.600000   \n",
      "25%     -1.000000   12.330000    1.600000    2.210000          17.200000   \n",
      "50%     -1.000000   13.050000    1.880000    2.360000          19.400000   \n",
      "75%     15.000000   13.720000    3.300000    2.550000          21.500000   \n",
      "max    197.000000   18.230000    5.800000    3.230000          30.000000   \n",
      "\n",
      "        magnesium  total_phenols  flavanoids  nonflavanoid_phenols  \\\n",
      "count  193.000000     193.000000  192.000000            193.000000   \n",
      "mean    99.419689       2.287824    2.010469              0.366166   \n",
      "std     13.908744       0.618837    0.997422              0.126486   \n",
      "min     70.000000       0.980000    0.340000              0.130000   \n",
      "25%     88.000000       1.780000    1.097500              0.270000   \n",
      "50%     98.000000       2.350000    2.100000              0.340000   \n",
      "75%    107.000000       2.800000    2.865000              0.450000   \n",
      "max    162.000000       3.880000    5.080000              0.660000   \n",
      "\n",
      "       proanthocyanins  color_intensity         hue  \\\n",
      "count       193.000000       192.000000  193.000000   \n",
      "mean          1.584715         5.076667    0.954819   \n",
      "std           0.566779         2.345812    0.228113   \n",
      "min           0.410000         1.280000    0.480000   \n",
      "25%           1.250000         3.240000    0.780000   \n",
      "50%           1.560000         4.690000    0.960000   \n",
      "75%           1.950000         6.212500    1.120000   \n",
      "max           3.580000        13.000000    1.710000   \n",
      "\n",
      "       od280/od315_of_diluted_wines      proline  \n",
      "count                    193.000000   184.000000  \n",
      "mean                       2.595699   751.646739  \n",
      "std                        0.715448   314.833966  \n",
      "min                        1.270000   278.000000  \n",
      "25%                        1.920000   510.000000  \n",
      "50%                        2.770000   675.000000  \n",
      "75%                        3.170000   985.000000  \n",
      "max                        4.000000  1680.000000  \n"
     ]
    }
   ],
   "source": [
    "replace_cols =['alcohol','flavanoids','color_intensity']\n",
    "for col in replace_cols:\n",
    "    df[col]=df[col].mask(df[col]<0,np.nan);\n",
    "print(df.describe())"
   ]
  },
  {
   "cell_type": "code",
   "execution_count": 8,
   "id": "ce043233",
   "metadata": {},
   "outputs": [
    {
     "ename": "AttributeError",
     "evalue": "'Index' object has no attribute 'select_dtypes'",
     "output_type": "error",
     "traceback": [
      "\u001b[0;31m---------------------------------------------------------------------------\u001b[0m",
      "\u001b[0;31mAttributeError\u001b[0m                            Traceback (most recent call last)",
      "Cell \u001b[0;32mIn[8], line 2\u001b[0m\n\u001b[1;32m      1\u001b[0m \u001b[38;5;66;03m# Separate numeric and non-numeric columns\u001b[39;00m\n\u001b[0;32m----> 2\u001b[0m numeric_columns \u001b[38;5;241m=\u001b[39m \u001b[43mdf\u001b[49m\u001b[38;5;241;43m.\u001b[39;49m\u001b[43mselect_dtypes\u001b[49m(include\u001b[38;5;241m=\u001b[39m[np\u001b[38;5;241m.\u001b[39mnumber])\u001b[38;5;241m.\u001b[39mcolumns\n\u001b[1;32m      3\u001b[0m non_numeric_columns \u001b[38;5;241m=\u001b[39m df\u001b[38;5;241m.\u001b[39mselect_dtypes(exclude\u001b[38;5;241m=\u001b[39m[np\u001b[38;5;241m.\u001b[39mnumber])\u001b[38;5;241m.\u001b[39mcolumns\n\u001b[1;32m      5\u001b[0m \u001b[38;5;66;03m# Fill NaN values in numeric columns with their respective means\u001b[39;00m\n",
      "\u001b[0;31mAttributeError\u001b[0m: 'Index' object has no attribute 'select_dtypes'"
     ]
    }
   ],
   "source": []
  }
 ],
 "metadata": {
  "kernelspec": {
   "display_name": "Python 3 (ipykernel)",
   "language": "python",
   "name": "python3"
  },
  "language_info": {
   "codemirror_mode": {
    "name": "ipython",
    "version": 3
   },
   "file_extension": ".py",
   "mimetype": "text/x-python",
   "name": "python",
   "nbconvert_exporter": "python",
   "pygments_lexer": "ipython3",
   "version": "3.12.4"
  }
 },
 "nbformat": 4,
 "nbformat_minor": 5
}
